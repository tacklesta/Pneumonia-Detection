{
 "cells": [
  {
   "cell_type": "code",
   "execution_count": 1,
   "metadata": {},
   "outputs": [],
   "source": [
    "from tensorflow.keras.layers import Input,Lambda,Dense,Flatten,Conv2D\n",
    "from tensorflow.keras.models import Model\n",
    "from tensorflow.keras.applications.vgg19 import VGG19\n",
    "from tensorflow.keras.applications.resnet50 import preprocess_input\n",
    "from tensorflow.keras.preprocessing import image\n",
    "from tensorflow.keras.preprocessing.image import ImageDataGenerator,load_img\n",
    "from tensorflow.keras.models import Sequential\n",
    "from tensorflow.keras.layers import MaxPooling2D\n",
    "from tensorflow.keras.models import load_model\n",
    "import numpy as np\n",
    "from glob import glob\n",
    "import matplotlib.pyplot as plt"
   ]
  },
  {
   "cell_type": "code",
   "execution_count": 2,
   "metadata": {},
   "outputs": [],
   "source": [
    "IMAGE_SIZE = [224, 224]\n",
    "\n",
    "train_path = 'cell_images/Train'\n",
    "valid_path = 'cell_images/Test'"
   ]
  },
  {
   "cell_type": "code",
   "execution_count": 3,
   "metadata": {},
   "outputs": [],
   "source": [
    "vgg = VGG19(input_shape=IMAGE_SIZE + [3], weights='imagenet', include_top=False)"
   ]
  },
  {
   "cell_type": "code",
   "execution_count": 4,
   "metadata": {},
   "outputs": [],
   "source": [
    "for layer in vgg.layers:\n",
    "    layer.trainable = False"
   ]
  },
  {
   "cell_type": "code",
   "execution_count": 5,
   "metadata": {},
   "outputs": [],
   "source": [
    "folders = glob('Dataset/Train/*')"
   ]
  },
  {
   "cell_type": "code",
   "execution_count": 6,
   "metadata": {},
   "outputs": [
    {
     "data": {
      "text/plain": [
       "['Dataset/Train\\\\Parasite', 'Dataset/Train\\\\Uninfected']"
      ]
     },
     "execution_count": 6,
     "metadata": {},
     "output_type": "execute_result"
    }
   ],
   "source": [
    "folders"
   ]
  },
  {
   "cell_type": "code",
   "execution_count": 7,
   "metadata": {},
   "outputs": [],
   "source": [
    "x=Flatten()(vgg.output)"
   ]
  },
  {
   "cell_type": "code",
   "execution_count": 8,
   "metadata": {},
   "outputs": [],
   "source": [
    "pred = Dense(len(folders), activation='softmax')(x)\n",
    "\n",
    "model = Model(inputs=vgg.input,outputs = pred)"
   ]
  },
  {
   "cell_type": "code",
   "execution_count": 9,
   "metadata": {},
   "outputs": [
    {
     "name": "stdout",
     "output_type": "stream",
     "text": [
      "Model: \"functional_1\"\n",
      "_________________________________________________________________\n",
      "Layer (type)                 Output Shape              Param #   \n",
      "=================================================================\n",
      "input_1 (InputLayer)         [(None, 224, 224, 3)]     0         \n",
      "_________________________________________________________________\n",
      "block1_conv1 (Conv2D)        (None, 224, 224, 64)      1792      \n",
      "_________________________________________________________________\n",
      "block1_conv2 (Conv2D)        (None, 224, 224, 64)      36928     \n",
      "_________________________________________________________________\n",
      "block1_pool (MaxPooling2D)   (None, 112, 112, 64)      0         \n",
      "_________________________________________________________________\n",
      "block2_conv1 (Conv2D)        (None, 112, 112, 128)     73856     \n",
      "_________________________________________________________________\n",
      "block2_conv2 (Conv2D)        (None, 112, 112, 128)     147584    \n",
      "_________________________________________________________________\n",
      "block2_pool (MaxPooling2D)   (None, 56, 56, 128)       0         \n",
      "_________________________________________________________________\n",
      "block3_conv1 (Conv2D)        (None, 56, 56, 256)       295168    \n",
      "_________________________________________________________________\n",
      "block3_conv2 (Conv2D)        (None, 56, 56, 256)       590080    \n",
      "_________________________________________________________________\n",
      "block3_conv3 (Conv2D)        (None, 56, 56, 256)       590080    \n",
      "_________________________________________________________________\n",
      "block3_conv4 (Conv2D)        (None, 56, 56, 256)       590080    \n",
      "_________________________________________________________________\n",
      "block3_pool (MaxPooling2D)   (None, 28, 28, 256)       0         \n",
      "_________________________________________________________________\n",
      "block4_conv1 (Conv2D)        (None, 28, 28, 512)       1180160   \n",
      "_________________________________________________________________\n",
      "block4_conv2 (Conv2D)        (None, 28, 28, 512)       2359808   \n",
      "_________________________________________________________________\n",
      "block4_conv3 (Conv2D)        (None, 28, 28, 512)       2359808   \n",
      "_________________________________________________________________\n",
      "block4_conv4 (Conv2D)        (None, 28, 28, 512)       2359808   \n",
      "_________________________________________________________________\n",
      "block4_pool (MaxPooling2D)   (None, 14, 14, 512)       0         \n",
      "_________________________________________________________________\n",
      "block5_conv1 (Conv2D)        (None, 14, 14, 512)       2359808   \n",
      "_________________________________________________________________\n",
      "block5_conv2 (Conv2D)        (None, 14, 14, 512)       2359808   \n",
      "_________________________________________________________________\n",
      "block5_conv3 (Conv2D)        (None, 14, 14, 512)       2359808   \n",
      "_________________________________________________________________\n",
      "block5_conv4 (Conv2D)        (None, 14, 14, 512)       2359808   \n",
      "_________________________________________________________________\n",
      "block5_pool (MaxPooling2D)   (None, 7, 7, 512)         0         \n",
      "_________________________________________________________________\n",
      "flatten (Flatten)            (None, 25088)             0         \n",
      "_________________________________________________________________\n",
      "dense (Dense)                (None, 2)                 50178     \n",
      "=================================================================\n",
      "Total params: 20,074,562\n",
      "Trainable params: 50,178\n",
      "Non-trainable params: 20,024,384\n",
      "_________________________________________________________________\n"
     ]
    }
   ],
   "source": [
    "model.summary()"
   ]
  },
  {
   "cell_type": "code",
   "execution_count": 10,
   "metadata": {},
   "outputs": [],
   "source": [
    "model.compile(\n",
    "  loss='categorical_crossentropy',\n",
    "  optimizer='adam',\n",
    "  metrics=['accuracy']\n",
    ")"
   ]
  },
  {
   "cell_type": "code",
   "execution_count": 11,
   "metadata": {},
   "outputs": [],
   "source": [
    "train_datagen = ImageDataGenerator(rescale = 1./255,\n",
    "                                   shear_range = 0.2,\n",
    "                                   zoom_range = 0.2,\n",
    "                                   horizontal_flip = True)\n",
    "\n",
    "test_datagen = ImageDataGenerator(rescale = 1./255)"
   ]
  },
  {
   "cell_type": "code",
   "execution_count": 12,
   "metadata": {},
   "outputs": [
    {
     "name": "stdout",
     "output_type": "stream",
     "text": [
      "Found 416 images belonging to 2 classes.\n"
     ]
    }
   ],
   "source": [
    "training_set = train_datagen.flow_from_directory('Dataset/Train',\n",
    "                                                 target_size = (224, 224),\n",
    "                                                 batch_size = 32,\n",
    "                                                 class_mode = 'categorical')"
   ]
  },
  {
   "cell_type": "code",
   "execution_count": 13,
   "metadata": {},
   "outputs": [
    {
     "data": {
      "text/plain": [
       "<tensorflow.python.keras.preprocessing.image.DirectoryIterator at 0x1cc734e7490>"
      ]
     },
     "execution_count": 13,
     "metadata": {},
     "output_type": "execute_result"
    }
   ],
   "source": [
    "training_set"
   ]
  },
  {
   "cell_type": "code",
   "execution_count": 14,
   "metadata": {},
   "outputs": [
    {
     "name": "stdout",
     "output_type": "stream",
     "text": [
      "Found 134 images belonging to 2 classes.\n"
     ]
    }
   ],
   "source": [
    "test_set = test_datagen.flow_from_directory('Dataset/Test',\n",
    "                                            target_size = (224, 224),\n",
    "                                            batch_size = 32,\n",
    "                                            class_mode = 'categorical')"
   ]
  },
  {
   "cell_type": "code",
   "execution_count": null,
   "metadata": {},
   "outputs": [],
   "source": [
    "r = model.fit_generator(\n",
    "  training_set,\n",
    "  validation_data=test_set,\n",
    "  epochs=50,\n",
    "  steps_per_epoch=len(training_set),\n",
    "  validation_steps=len(test_set)\n",
    ")"
   ]
  },
  {
   "cell_type": "code",
   "execution_count": 24,
   "metadata": {},
   "outputs": [
    {
     "data": {
      "text/plain": [
       "{'loss': [0.9077731370925903,\n",
       "  0.6029370427131653,\n",
       "  0.5411573052406311,\n",
       "  0.45502549409866333,\n",
       "  0.4054710566997528,\n",
       "  0.3695434033870697,\n",
       "  0.288973867893219,\n",
       "  0.24841102957725525,\n",
       "  0.22495821118354797,\n",
       "  0.1922929286956787,\n",
       "  0.1568441092967987,\n",
       "  0.13542303442955017,\n",
       "  0.13131555914878845,\n",
       "  0.12460771203041077,\n",
       "  0.11601657420396805,\n",
       "  0.10488168895244598,\n",
       "  0.0803893432021141,\n",
       "  0.06668457388877869,\n",
       "  0.0866275280714035,\n",
       "  0.09480597078800201,\n",
       "  0.07057034224271774,\n",
       "  0.07793193310499191,\n",
       "  0.09679728001356125,\n",
       "  0.14366227388381958,\n",
       "  0.13053245842456818,\n",
       "  0.0706864520907402,\n",
       "  0.061013363301754,\n",
       "  0.03388082608580589,\n",
       "  0.05180143564939499,\n",
       "  0.09664174169301987,\n",
       "  0.07971139252185822,\n",
       "  0.05909556895494461,\n",
       "  0.0628092959523201,\n",
       "  0.09689462184906006,\n",
       "  0.20728357136249542,\n",
       "  0.15029387176036835,\n",
       "  0.11135509610176086,\n",
       "  0.05175825580954552,\n",
       "  0.01869843155145645,\n",
       "  0.05093725398182869,\n",
       "  0.01627376116812229,\n",
       "  0.01555989682674408,\n",
       "  0.023004190996289253,\n",
       "  0.01150694489479065,\n",
       "  0.04512433707714081,\n",
       "  0.17059022188186646,\n",
       "  0.1156003549695015,\n",
       "  0.14155113697052002,\n",
       "  0.0459890179336071,\n",
       "  0.01926252245903015],\n",
       " 'accuracy': [0.5432692170143127,\n",
       "  0.651442289352417,\n",
       "  0.7115384340286255,\n",
       "  0.8028846383094788,\n",
       "  0.8149038553237915,\n",
       "  0.8197115659713745,\n",
       "  0.875,\n",
       "  0.9134615659713745,\n",
       "  0.9278846383094788,\n",
       "  0.9350961446762085,\n",
       "  0.9543269276618958,\n",
       "  0.9567307829856873,\n",
       "  0.963942289352417,\n",
       "  0.9519230723381042,\n",
       "  0.9543269276618958,\n",
       "  0.96875,\n",
       "  0.9783653616905212,\n",
       "  0.9831730723381042,\n",
       "  0.9663461446762085,\n",
       "  0.9663461446762085,\n",
       "  0.9807692170143127,\n",
       "  0.9783653616905212,\n",
       "  0.973557710647583,\n",
       "  0.9495192170143127,\n",
       "  0.9567307829856873,\n",
       "  0.9831730723381042,\n",
       "  0.9855769276618958,\n",
       "  0.995192289352417,\n",
       "  0.9879807829856873,\n",
       "  0.9591346383094788,\n",
       "  0.9807692170143127,\n",
       "  0.9831730723381042,\n",
       "  0.9879807829856873,\n",
       "  0.9879807829856873,\n",
       "  0.932692289352417,\n",
       "  0.942307710647583,\n",
       "  0.963942289352417,\n",
       "  0.9903846383094788,\n",
       "  0.9927884340286255,\n",
       "  0.995192289352417,\n",
       "  0.9975961446762085,\n",
       "  0.995192289352417,\n",
       "  0.995192289352417,\n",
       "  0.9975961446762085,\n",
       "  0.9855769276618958,\n",
       "  0.942307710647583,\n",
       "  0.9615384340286255,\n",
       "  0.9543269276618958,\n",
       "  0.9879807829856873,\n",
       "  0.995192289352417],\n",
       " 'val_loss': [0.7327611446380615,\n",
       "  0.8451498746871948,\n",
       "  0.8363255858421326,\n",
       "  0.7534794807434082,\n",
       "  0.953964352607727,\n",
       "  0.7415403723716736,\n",
       "  0.45243579149246216,\n",
       "  0.805921196937561,\n",
       "  0.9144082069396973,\n",
       "  0.2804417014122009,\n",
       "  0.7035092711448669,\n",
       "  0.5084972977638245,\n",
       "  0.4409719705581665,\n",
       "  0.24089084565639496,\n",
       "  0.25689250230789185,\n",
       "  0.26388537883758545,\n",
       "  0.19944794476032257,\n",
       "  0.18306998908519745,\n",
       "  0.2847076952457428,\n",
       "  0.22748447954654694,\n",
       "  0.5475499629974365,\n",
       "  0.2970896065235138,\n",
       "  0.17876498401165009,\n",
       "  0.37018507719039917,\n",
       "  0.31063327193260193,\n",
       "  0.4646577835083008,\n",
       "  0.2823208272457123,\n",
       "  0.49976247549057007,\n",
       "  0.19501441717147827,\n",
       "  0.2526487410068512,\n",
       "  0.3400580585002899,\n",
       "  0.4008066952228546,\n",
       "  0.3449322581291199,\n",
       "  0.59513258934021,\n",
       "  0.33174607157707214,\n",
       "  0.26496079564094543,\n",
       "  0.21947970986366272,\n",
       "  0.18399275839328766,\n",
       "  0.8885745406150818,\n",
       "  0.13245300948619843,\n",
       "  0.2715655565261841,\n",
       "  0.2123318910598755,\n",
       "  0.11986152082681656,\n",
       "  0.19948144257068634,\n",
       "  0.4980623126029968,\n",
       "  0.36794978380203247,\n",
       "  0.7291328310966492,\n",
       "  0.20618374645709991,\n",
       "  0.163608580827713,\n",
       "  0.2767780125141144],\n",
       " 'val_accuracy': [0.34328359365463257,\n",
       "  0.33582088351249695,\n",
       "  0.41044774651527405,\n",
       "  0.46268656849861145,\n",
       "  0.46268656849861145,\n",
       "  0.5895522236824036,\n",
       "  0.753731369972229,\n",
       "  0.611940324306488,\n",
       "  0.6194030046463013,\n",
       "  0.9104477763175964,\n",
       "  0.7089552283287048,\n",
       "  0.7686567306518555,\n",
       "  0.8432835936546326,\n",
       "  0.888059675693512,\n",
       "  0.888059675693512,\n",
       "  0.8731343150138855,\n",
       "  0.9402984976768494,\n",
       "  0.9029850959777832,\n",
       "  0.8731343150138855,\n",
       "  0.89552241563797,\n",
       "  0.8358209133148193,\n",
       "  0.89552241563797,\n",
       "  0.9253731369972229,\n",
       "  0.8507462739944458,\n",
       "  0.8805969953536987,\n",
       "  0.8731343150138855,\n",
       "  0.9029850959777832,\n",
       "  0.8731343150138855,\n",
       "  0.9328358173370361,\n",
       "  0.8731343150138855,\n",
       "  0.888059675693512,\n",
       "  0.8805969953536987,\n",
       "  0.9029850959777832,\n",
       "  0.8656716346740723,\n",
       "  0.8358209133148193,\n",
       "  0.9104477763175964,\n",
       "  0.9029850959777832,\n",
       "  0.9477611780166626,\n",
       "  0.8731343150138855,\n",
       "  0.9552238583564758,\n",
       "  0.9253731369972229,\n",
       "  0.9402984976768494,\n",
       "  0.9626865386962891,\n",
       "  0.9477611780166626,\n",
       "  0.8656716346740723,\n",
       "  0.8432835936546326,\n",
       "  0.8208954930305481,\n",
       "  0.89552241563797,\n",
       "  0.9477611780166626,\n",
       "  0.9477611780166626]}"
      ]
     },
     "execution_count": 24,
     "metadata": {},
     "output_type": "execute_result"
    }
   ],
   "source": [
    "r.history"
   ]
  },
  {
   "cell_type": "code",
   "execution_count": 20,
   "metadata": {},
   "outputs": [
    {
     "data": {
      "image/png": "[encoded data removed]",
      "text/plain": [
       "<Figure size 432x288 with 1 Axes>"
      ]
     },
     "metadata": {
      "needs_background": "light"
     },
     "output_type": "display_data"
    },
    {
     "data": {
      "image/png": "[encoded data removed]",
      "text/plain": [
       "<Figure size 432x288 with 1 Axes>"
      ]
     },
     "metadata": {
      "needs_background": "light"
     },
     "output_type": "display_data"
    },
    {
     "data": {
      "text/plain": [
       "<Figure size 432x288 with 0 Axes>"
      ]
     },
     "metadata": {},
     "output_type": "display_data"
    }
   ],
   "source": [
    "#plot the loss\n",
    "plt.plot(r.history['loss'], label='train loss')\n",
    "plt.plot(r.history['val_loss'], label='val loss')\n",
    "plt.legend()\n",
    "plt.show()\n",
    "plt.savefig('LossVal_loss')\n",
    "\n",
    "# plot the accuracy\n",
    "plt.plot(r.history['accuracy'], label='train acc')\n",
    "plt.plot(r.history['val_accuracy'], label='val acc')\n",
    "plt.legend()\n",
    "plt.show()\n",
    "plt.savefig('AccVal_acc')"
   ]
  },
  {
   "cell_type": "code",
   "execution_count": 26,
   "metadata": {},
   "outputs": [],
   "source": [
    "model.save('model_vgg19.h5')"
   ]
  },
  {
   "cell_type": "code",
   "execution_count": 28,
   "metadata": {},
   "outputs": [],
   "source": [
    "y_pred = model.predict(test_set)"
   ]
  },
  {
   "cell_type": "code",
   "execution_count": 30,
   "metadata": {},
   "outputs": [
    {
     "data": {
      "text/plain": [
       "array([[1.0000000e+00, 0.0000000e+00],\n",
       "       [1.0000000e+00, 1.8468667e-16],\n",
       "       [1.3442481e-03, 9.9865568e-01],\n",
       "       [1.0000000e+00, 1.4463269e-28],\n",
       "       [1.0000000e+00, 1.0266169e-21],\n",
       "       [9.8253461e-03, 9.9017465e-01],\n",
       "       [1.1328245e-02, 9.8867178e-01],\n",
       "       [1.0000000e+00, 5.5823390e-31],\n",
       "       [2.5413083e-03, 9.9745876e-01],\n",
       "       [1.0000000e+00, 2.6108872e-15],\n",
       "       [1.0000000e+00, 3.0212379e-16],\n",
       "       [1.1851715e-03, 9.9881482e-01],\n",
       "       [9.5885628e-01, 4.1143667e-02],\n",
       "       [1.3796790e-01, 8.6203206e-01],\n",
       "       [1.0000000e+00, 4.4291986e-18],\n",
       "       [1.0000000e+00, 4.1742343e-25],\n",
       "       [1.0000000e+00, 2.7506206e-13],\n",
       "       [1.0000000e+00, 1.2023991e-22],\n",
       "       [1.0000000e+00, 5.9030548e-24],\n",
       "       [1.0000000e+00, 0.0000000e+00],\n",
       "       [6.1559170e-01, 3.8440824e-01],\n",
       "       [9.7626489e-01, 2.3735084e-02],\n",
       "       [1.0000000e+00, 2.4470439e-18],\n",
       "       [1.0000000e+00, 1.9196875e-19],\n",
       "       [1.0000000e+00, 5.8147664e-19],\n",
       "       [3.4872103e-03, 9.9651283e-01],\n",
       "       [1.0000000e+00, 8.5847234e-34],\n",
       "       [1.7264046e-01, 8.2735950e-01],\n",
       "       [1.0000000e+00, 0.0000000e+00],\n",
       "       [1.0000000e+00, 1.3706491e-23],\n",
       "       [8.7095322e-03, 9.9129045e-01],\n",
       "       [4.0874463e-03, 9.9591249e-01],\n",
       "       [9.9999976e-01, 2.6966910e-07],\n",
       "       [1.0000000e+00, 1.4070298e-36],\n",
       "       [9.9999893e-01, 1.1029609e-06],\n",
       "       [9.9999928e-01, 7.2289765e-07],\n",
       "       [1.2911615e-02, 9.8708838e-01],\n",
       "       [4.0092754e-01, 5.9907246e-01],\n",
       "       [1.0000000e+00, 3.6463434e-21],\n",
       "       [1.0000000e+00, 1.3715013e-16],\n",
       "       [1.0000000e+00, 1.1594632e-37],\n",
       "       [2.5754108e-03, 9.9742460e-01],\n",
       "       [1.0000000e+00, 2.4914052e-20],\n",
       "       [1.0000000e+00, 0.0000000e+00],\n",
       "       [5.1841689e-03, 9.9481577e-01],\n",
       "       [1.0000000e+00, 0.0000000e+00],\n",
       "       [1.8181587e-03, 9.9818182e-01],\n",
       "       [1.2809511e-03, 9.9871910e-01],\n",
       "       [1.0000000e+00, 4.5025596e-23],\n",
       "       [1.0000000e+00, 1.1055318e-15],\n",
       "       [1.0000000e+00, 1.1304175e-19],\n",
       "       [1.0000000e+00, 1.4400340e-36],\n",
       "       [1.0000000e+00, 5.2411081e-10],\n",
       "       [1.0000000e+00, 0.0000000e+00],\n",
       "       [8.7979058e-04, 9.9912018e-01],\n",
       "       [5.6810435e-03, 9.9431902e-01],\n",
       "       [1.0000000e+00, 6.1160777e-22],\n",
       "       [1.0000000e+00, 1.0796249e-24],\n",
       "       [9.7839147e-01, 2.1608587e-02],\n",
       "       [1.0000000e+00, 1.6228782e-19],\n",
       "       [1.0000000e+00, 9.8722675e-16],\n",
       "       [1.0000000e+00, 1.6483540e-18],\n",
       "       [1.2076090e-03, 9.9879241e-01],\n",
       "       [1.0000000e+00, 1.7894070e-19],\n",
       "       [1.0000000e+00, 5.5781777e-12],\n",
       "       [9.9967909e-01, 3.2096438e-04],\n",
       "       [1.0000000e+00, 1.6449662e-13],\n",
       "       [1.0000000e+00, 3.1844731e-23],\n",
       "       [2.9138969e-03, 9.9708611e-01],\n",
       "       [1.0000000e+00, 0.0000000e+00],\n",
       "       [1.0000000e+00, 1.0934498e-20],\n",
       "       [7.0118620e-03, 9.9298817e-01],\n",
       "       [1.0000000e+00, 1.0700322e-21],\n",
       "       [7.6432627e-01, 2.3567370e-01],\n",
       "       [1.0000000e+00, 3.5642288e-20],\n",
       "       [1.5309085e-02, 9.8469085e-01],\n",
       "       [1.8253200e-02, 9.8174679e-01],\n",
       "       [1.0000000e+00, 2.6433792e-21],\n",
       "       [1.0000000e+00, 2.1728859e-19],\n",
       "       [1.0000000e+00, 4.6089772e-18],\n",
       "       [6.9341407e-04, 9.9930656e-01],\n",
       "       [1.0490603e-03, 9.9895096e-01],\n",
       "       [4.8903362e-03, 9.9510962e-01],\n",
       "       [1.0000000e+00, 0.0000000e+00],\n",
       "       [6.7183143e-04, 9.9932814e-01],\n",
       "       [4.1497834e-03, 9.9585021e-01],\n",
       "       [1.0000000e+00, 6.5716017e-18],\n",
       "       [3.0541036e-03, 9.9694592e-01],\n",
       "       [1.7197912e-03, 9.9828017e-01],\n",
       "       [1.0000000e+00, 2.0584674e-23],\n",
       "       [1.0000000e+00, 1.0901929e-20],\n",
       "       [1.0000000e+00, 6.3076586e-11],\n",
       "       [9.3355747e-03, 9.9066448e-01],\n",
       "       [1.0000000e+00, 1.4437820e-33],\n",
       "       [2.2696296e-02, 9.7730368e-01],\n",
       "       [1.0000000e+00, 0.0000000e+00],\n",
       "       [1.0000000e+00, 4.7304516e-21],\n",
       "       [1.0000000e+00, 7.2874069e-17],\n",
       "       [3.4226731e-03, 9.9657732e-01],\n",
       "       [9.9771845e-01, 2.2816318e-03],\n",
       "       [1.0000000e+00, 2.7517366e-33],\n",
       "       [4.2799921e-03, 9.9571997e-01],\n",
       "       [1.0000000e+00, 4.6401633e-12],\n",
       "       [4.5838262e-04, 9.9954164e-01],\n",
       "       [1.0000000e+00, 2.9254601e-23],\n",
       "       [1.6229138e-03, 9.9837708e-01],\n",
       "       [1.0000000e+00, 2.1660434e-25],\n",
       "       [1.0000000e+00, 8.5724416e-10],\n",
       "       [9.9987757e-01, 1.2239194e-04],\n",
       "       [6.8503991e-03, 9.9314958e-01],\n",
       "       [1.0000000e+00, 8.1756328e-30],\n",
       "       [6.4217495e-03, 9.9357820e-01],\n",
       "       [9.9993312e-01, 6.6927896e-05],\n",
       "       [1.0000000e+00, 1.1037960e-37],\n",
       "       [1.8956605e-01, 8.1043392e-01],\n",
       "       [1.1920735e-03, 9.9880791e-01],\n",
       "       [1.0000000e+00, 2.7430826e-31],\n",
       "       [8.4819429e-04, 9.9915183e-01],\n",
       "       [9.9961239e-01, 3.8765903e-04],\n",
       "       [1.0000000e+00, 1.7431154e-18],\n",
       "       [1.0000000e+00, 0.0000000e+00],\n",
       "       [9.9999940e-01, 5.5594728e-07],\n",
       "       [1.0000000e+00, 1.1939790e-16],\n",
       "       [1.0000000e+00, 0.0000000e+00],\n",
       "       [1.0000000e+00, 1.6945328e-33],\n",
       "       [9.9999881e-01, 1.2388829e-06],\n",
       "       [1.0000000e+00, 9.5272901e-18],\n",
       "       [1.0000000e+00, 0.0000000e+00],\n",
       "       [9.9999952e-01, 4.5453623e-07],\n",
       "       [9.1989338e-03, 9.9080104e-01],\n",
       "       [1.0000000e+00, 2.9597509e-24],\n",
       "       [1.6323290e-03, 9.9836773e-01],\n",
       "       [1.0000000e+00, 0.0000000e+00],\n",
       "       [1.9856992e-03, 9.9801433e-01]], dtype=float32)"
      ]
     },
     "execution_count": 30,
     "metadata": {},
     "output_type": "execute_result"
    }
   ],
   "source": [
    "y_pred"
   ]
  },
  {
   "cell_type": "code",
   "execution_count": 31,
   "metadata": {},
   "outputs": [],
   "source": [
    "y_pred = np.argmax(y_pred, axis=1)"
   ]
  },
  {
   "cell_type": "code",
   "execution_count": 32,
   "metadata": {},
   "outputs": [
    {
     "data": {
      "text/plain": [
       "array([0, 0, 1, 0, 0, 1, 1, 0, 1, 0, 0, 1, 0, 1, 0, 0, 0, 0, 0, 0, 0, 0,\n",
       "       0, 0, 0, 1, 0, 1, 0, 0, 1, 1, 0, 0, 0, 0, 1, 1, 0, 0, 0, 1, 0, 0,\n",
       "       1, 0, 1, 1, 0, 0, 0, 0, 0, 0, 1, 1, 0, 0, 0, 0, 0, 0, 1, 0, 0, 0,\n",
       "       0, 0, 1, 0, 0, 1, 0, 0, 0, 1, 1, 0, 0, 0, 1, 1, 1, 0, 1, 1, 0, 1,\n",
       "       1, 0, 0, 0, 1, 0, 1, 0, 0, 0, 1, 0, 0, 1, 0, 1, 0, 1, 0, 0, 0, 1,\n",
       "       0, 1, 0, 0, 1, 1, 0, 1, 0, 0, 0, 0, 0, 0, 0, 0, 0, 0, 0, 1, 0, 1,\n",
       "       0, 1], dtype=int64)"
      ]
     },
     "execution_count": 32,
     "metadata": {},
     "output_type": "execute_result"
    }
   ],
   "source": [
    "y_pred"
   ]
  },
  {
   "cell_type": "code",
   "execution_count": 33,
   "metadata": {},
   "outputs": [],
   "source": [
    "model=load_model('model_vgg19.h5')"
   ]
  },
  {
   "cell_type": "code",
   "execution_count": 34,
   "metadata": {},
   "outputs": [],
   "source": [
    "img=image.load_img('Dataset/Test/Uninfected/2.png',target_size=(224,224))"
   ]
  },
  {
   "cell_type": "code",
   "execution_count": 35,
   "metadata": {},
   "outputs": [
    {
     "data": {
      "text/plain": [
       "array([[[0., 0., 0.],\n",
       "        [0., 0., 0.],\n",
       "        [0., 0., 0.],\n",
       "        ...,\n",
       "        [0., 0., 0.],\n",
       "        [0., 0., 0.],\n",
       "        [0., 0., 0.]],\n",
       "\n",
       "       [[0., 0., 0.],\n",
       "        [0., 0., 0.],\n",
       "        [0., 0., 0.],\n",
       "        ...,\n",
       "        [0., 0., 0.],\n",
       "        [0., 0., 0.],\n",
       "        [0., 0., 0.]],\n",
       "\n",
       "       [[0., 0., 0.],\n",
       "        [0., 0., 0.],\n",
       "        [0., 0., 0.],\n",
       "        ...,\n",
       "        [0., 0., 0.],\n",
       "        [0., 0., 0.],\n",
       "        [0., 0., 0.]],\n",
       "\n",
       "       ...,\n",
       "\n",
       "       [[0., 0., 0.],\n",
       "        [0., 0., 0.],\n",
       "        [0., 0., 0.],\n",
       "        ...,\n",
       "        [0., 0., 0.],\n",
       "        [0., 0., 0.],\n",
       "        [0., 0., 0.]],\n",
       "\n",
       "       [[0., 0., 0.],\n",
       "        [0., 0., 0.],\n",
       "        [0., 0., 0.],\n",
       "        ...,\n",
       "        [0., 0., 0.],\n",
       "        [0., 0., 0.],\n",
       "        [0., 0., 0.]],\n",
       "\n",
       "       [[0., 0., 0.],\n",
       "        [0., 0., 0.],\n",
       "        [0., 0., 0.],\n",
       "        ...,\n",
       "        [0., 0., 0.],\n",
       "        [0., 0., 0.],\n",
       "        [0., 0., 0.]]], dtype=float32)"
      ]
     },
     "execution_count": 35,
     "metadata": {},
     "output_type": "execute_result"
    }
   ],
   "source": [
    "x=image.img_to_array(img)\n",
    "x"
   ]
  },
  {
   "cell_type": "code",
   "execution_count": 38,
   "metadata": {},
   "outputs": [
    {
     "data": {
      "text/plain": [
       "(224, 224, 3)"
      ]
     },
     "execution_count": 38,
     "metadata": {},
     "output_type": "execute_result"
    }
   ],
   "source": [
    "x.shape"
   ]
  },
  {
   "cell_type": "code",
   "execution_count": 39,
   "metadata": {},
   "outputs": [],
   "source": [
    "x=x/255"
   ]
  },
  {
   "cell_type": "code",
   "execution_count": 40,
   "metadata": {},
   "outputs": [
    {
     "data": {
      "text/plain": [
       "(1, 224, 224, 3)"
      ]
     },
     "execution_count": 40,
     "metadata": {},
     "output_type": "execute_result"
    }
   ],
   "source": [
    "x=np.expand_dims(x,axis=0)\n",
    "img_data=preprocess_input(x)\n",
    "img_data.shape"
   ]
  },
  {
   "cell_type": "code",
   "execution_count": 41,
   "metadata": {},
   "outputs": [
    {
     "data": {
      "text/plain": [
       "array([[0., 1.]], dtype=float32)"
      ]
     },
     "execution_count": 41,
     "metadata": {},
     "output_type": "execute_result"
    }
   ],
   "source": [
    "model.predict(img_data)"
   ]
  },
  {
   "cell_type": "code",
   "execution_count": 42,
   "metadata": {},
   "outputs": [],
   "source": [
    "a=np.argmax(model.predict(img_data), axis=1)"
   ]
  },
  {
   "cell_type": "code",
   "execution_count": 43,
   "metadata": {},
   "outputs": [
    {
     "name": "stdout",
     "output_type": "stream",
     "text": [
      "Uninfected\n"
     ]
    }
   ],
   "source": [
    "if(a==1):\n",
    "    print(\"Uninfected\")\n",
    "else:\n",
    "    print(\"Infected\")"
   ]
  },
  {
   "cell_type": "code",
   "execution_count": null,
   "metadata": {},
   "outputs": [],
   "source": []
  }
 ],
 "metadata": {
  "kernelspec": {
   "display_name": "Python 3",
   "language": "python",
   "name": "python3"
  },
  "language_info": {
   "codemirror_mode": {
    "name": "ipython",
    "version": 3
   },
   "file_extension": ".py",
   "mimetype": "text/x-python",
   "name": "python",
   "nbconvert_exporter": "python",
   "pygments_lexer": "ipython3",
   "version": "3.8.3"
  }
 },
 "nbformat": 4,
 "nbformat_minor": 4
}
